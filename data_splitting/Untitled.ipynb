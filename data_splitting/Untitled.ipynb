{
 "cells": [
  {
   "cell_type": "code",
   "execution_count": 2,
   "id": "11f17e5f-853d-4433-ba49-aaff8d6eee0f",
   "metadata": {},
   "outputs": [],
   "source": [
    "import os\n",
    "import json\n",
    "import torch\n",
    "from PIL import Image\n",
    "from transformers import AutoProcessor, AutoModelForCausalLM\n",
    "from decord import VideoReader, cpu\n",
    "from tqdm import tqdm\n"
   ]
  },
  {
   "cell_type": "code",
   "execution_count": 3,
   "id": "916eb169-5190-4a2c-95c2-443de56cccd0",
   "metadata": {},
   "outputs": [],
   "source": [
    "model_id = 'microsoft/Florence-2-base-ft'\n",
    "device = torch.device(\"cuda\" if torch.cuda.is_available() else \"cpu\")"
   ]
  },
  {
   "cell_type": "code",
   "execution_count": 4,
   "id": "567f3113-3af4-4062-a51a-c1b1adcf4e8c",
   "metadata": {},
   "outputs": [
    {
     "name": "stderr",
     "output_type": "stream",
     "text": [
      "/root/miniconda3/envs/py3.10/lib/python3.10/site-packages/timm/models/layers/__init__.py:48: FutureWarning: Importing from timm.models.layers is deprecated, please import via timm.layers\n",
      "  warnings.warn(f\"Importing from {__name__} is deprecated, please import via timm.layers\", FutureWarning)\n",
      "/root/miniconda3/envs/py3.10/lib/python3.10/site-packages/transformers/tokenization_utils_base.py:1601: FutureWarning: `clean_up_tokenization_spaces` was not set. It will be set to `True` by default. This behavior will be depracted in transformers v4.45, and will be then set to `False` by default. For more details check this issue: https://github.com/huggingface/transformers/issues/31884\n",
      "  warnings.warn(\n"
     ]
    }
   ],
   "source": [
    "model = AutoModelForCausalLM.from_pretrained(\n",
    "    model_id,\n",
    "    trust_remote_code=True,\n",
    "    revision='refs/pr/6'\n",
    ").to(device)\n",
    "processor = AutoProcessor.from_pretrained(\n",
    "    model_id,\n",
    "    trust_remote_code=True,\n",
    "    revision='refs/pr/6'\n",
    ")"
   ]
  },
  {
   "cell_type": "code",
   "execution_count": 15,
   "id": "b83e98a5-5810-45cf-b19b-8100fd8c2edd",
   "metadata": {},
   "outputs": [],
   "source": [
    "vr = VideoReader(\"/home/ACG/data/raw/videos/p5UIk5bhaCc.mp4\", ctx=cpu(0))"
   ]
  },
  {
   "cell_type": "code",
   "execution_count": 16,
   "id": "a7c4a75c-3618-4b10-b519-29ef1702d4aa",
   "metadata": {},
   "outputs": [],
   "source": [
    "def run_ocr_batch(frames, task_prompt=\"<OCR>\"):\n",
    "    \"\"\"\n",
    "    Runs OCR on a batch of frames.\n",
    "    \"\"\"\n",
    "    with torch.no_grad():  # Ensure no gradients are stored\n",
    "        inputs = processor(\n",
    "            text=[task_prompt] * len(frames),\n",
    "            images=frames,\n",
    "            return_tensors=\"pt\",\n",
    "            padding=True\n",
    "        ).to(device)\n",
    "\n",
    "        generated_ids = model.generate(\n",
    "            input_ids=inputs[\"input_ids\"],\n",
    "            pixel_values=inputs[\"pixel_values\"],\n",
    "            max_new_tokens=1024,\n",
    "            early_stopping=False,\n",
    "            do_sample=False,\n",
    "            num_beams=3,\n",
    "        )\n",
    "\n",
    "        # Move tensors back to CPU to free GPU memory\n",
    "        generated_text = processor.batch_decode(generated_ids, skip_special_tokens=False)\n",
    "        parsed_answers = [\n",
    "            processor.post_process_generation(\n",
    "                answer, task=task_prompt, image_size=(frames[i].width, frames[i].height)\n",
    "            )\n",
    "            for i, answer in enumerate(generated_text)\n",
    "        ]\n",
    "\n",
    "        # Clean up GPU memory\n",
    "        del inputs, generated_ids\n",
    "        torch.cuda.empty_cache()  # Force free memory\n",
    "        return parsed_answers"
   ]
  },
  {
   "cell_type": "code",
   "execution_count": 17,
   "id": "1b6fb375-3ad3-43b0-9004-6dc1c45e2535",
   "metadata": {},
   "outputs": [],
   "source": [
    "frames=[]\n",
    "\n",
    "for frame_idx in range(5):\n",
    "    \n",
    "    frame = vr[frame_idx].asnumpy()\n",
    "    frame_image = Image.fromarray(frame)\n",
    "    frames.append(frame_image)"
   ]
  },
  {
   "cell_type": "code",
   "execution_count": 18,
   "id": "5e1a834b-eada-4bfd-b7fd-a2d9d7922570",
   "metadata": {},
   "outputs": [],
   "source": [
    "res = run_ocr_batch(frames)"
   ]
  },
  {
   "cell_type": "code",
   "execution_count": 19,
   "id": "5b0545d0-0cdd-43dd-9f94-d800e24ad3ae",
   "metadata": {},
   "outputs": [
    {
     "data": {
      "text/plain": [
       "[{'<OCR>': \"ECBCO.UKRADORADORAADORathesayThe UK's largests re\"},\n",
       " {'<OCR>': 'ECBCO.UKRADORADORAADORathesayThe UKs largests re'},\n",
       " {'<OCR>': \"ECBCO.UKRADORADORAADORathesayThe UK's largest<pad><pad>\"},\n",
       " {'<OCR>': \"ECBCO.UKRADORADORathesayThe UK's largest.ire<pad><pad><pad>\"},\n",
       " {'<OCR>': \"ECBCO.UKThe UK's largestS<pad><pad><pad><pad><pad><pad><pad><pad><pad><pad><pad><pad>\"}]"
      ]
     },
     "execution_count": 19,
     "metadata": {},
     "output_type": "execute_result"
    }
   ],
   "source": [
    "res"
   ]
  },
  {
   "cell_type": "code",
   "execution_count": null,
   "id": "05e097e1-dc1a-4fa2-93fc-d6f8dca13c78",
   "metadata": {},
   "outputs": [],
   "source": []
  }
 ],
 "metadata": {
  "kernelspec": {
   "display_name": "Python 3 (ipykernel)",
   "language": "python",
   "name": "python3"
  },
  "language_info": {
   "codemirror_mode": {
    "name": "ipython",
    "version": 3
   },
   "file_extension": ".py",
   "mimetype": "text/x-python",
   "name": "python",
   "nbconvert_exporter": "python",
   "pygments_lexer": "ipython3",
   "version": "3.10.14"
  }
 },
 "nbformat": 4,
 "nbformat_minor": 5
}
